{
 "cells": [
  {
   "cell_type": "code",
   "execution_count": null,
   "id": "covered-porcelain",
   "metadata": {},
   "outputs": [],
   "source": [
    "import numpy as np\n",
    "from dask.distributed import Client, LocalCluster\n",
    "import dask.array as da\n",
    "import dask.dataframe as dd\n",
    "import pandas as pd\n",
    "\n",
    "import paths"
   ]
  },
  {
   "cell_type": "code",
   "execution_count": null,
   "id": "turned-school",
   "metadata": {
    "scrolled": true
   },
   "outputs": [],
   "source": [
    "# Housekeeping \n",
    "cluster = LocalCluster(n_workers=6)\n",
    "client = Client(cluster)\n",
    "pd.set_option('display.max_columns', None)"
   ]
  },
  {
   "cell_type": "code",
   "execution_count": null,
   "id": "established-whole",
   "metadata": {},
   "outputs": [],
   "source": [
    "reg_season_results = dd.read_csv(paths.raw + \"/MRegularSeasonDetailedResults.csv\")\n",
    "tourney_results = dd.read_csv(paths.raw + \"/MNCAATourneyDetailedResults.csv\")\n",
    "average_messey_ordinals = dd.read_csv(paths.interim + '/AverageMesseyOrdinalsPerSeasonAndTeam/*.part')"
   ]
  },
  {
   "cell_type": "code",
   "execution_count": null,
   "id": "republican-donna",
   "metadata": {
    "scrolled": true
   },
   "outputs": [],
   "source": [
    "# Append tournament results to regular season results\n",
    "reg_season_results = reg_season_results.append(tourney_results)\n",
    "reg_season_results.head()"
   ]
  },
  {
   "cell_type": "code",
   "execution_count": null,
   "id": "worse-drilling",
   "metadata": {},
   "outputs": [],
   "source": [
    "tourney_results.head()"
   ]
  },
  {
   "cell_type": "code",
   "execution_count": null,
   "id": "average-blackberry",
   "metadata": {},
   "outputs": [],
   "source": [
    "average_messey_ordinals.head()"
   ]
  },
  {
   "cell_type": "code",
   "execution_count": null,
   "id": "opposed-dress",
   "metadata": {},
   "outputs": [],
   "source": [
    "\n",
    "# Regular season results with ordinals for winning and losing teams joined\n",
    "reg_season_results_with_ordinals = reg_season_results.copy()\n",
    "# Join ordinals for winning team\n",
    "reg_season_results_with_ordinals = reg_season_results_with_ordinals.merge(average_messey_ordinals, \\\n",
    "                                                                          left_on=[\"Season\", \"WTeamID\"], \\\n",
    "                                                                         right_on=[\"Season\", \"TeamID\"])\n",
    "# Join ordinals for losing team\n",
    "reg_season_results_with_ordinals = reg_season_results_with_ordinals.merge(average_messey_ordinals, \\\n",
    "                                                                          left_on=[\"Season\", \"LTeamID\"], \\\n",
    "                                                                         right_on=[\"Season\", \"TeamID\"], \\\n",
    "                                                                         suffixes=[\"_W\", \\\n",
    "                                                                                   \"_L\"])\n",
    "\n",
    "reg_season_results_with_ordinals = reg_season_results_with_ordinals.drop([\"TeamID_W\", \"TeamID_L\"], axis=1)\n",
    "reg_season_results_with_ordinals.head()\n"
   ]
  },
  {
   "cell_type": "code",
   "execution_count": null,
   "id": "artificial-document",
   "metadata": {},
   "outputs": [],
   "source": [
    "dropped_cols = [\"DayNum\", \"WLoc\", \"NumOT\"]\n",
    "\n",
    "# Columns to be renamed for winning teams\n",
    "wcols = ['WTeamID', 'WScore', 'WFGM', 'WFGA', 'WFGM3', 'WFGA3', \n",
    "         'WFTM', 'WFTA', 'WOR', 'WDR', 'WAst', 'WTO', 'WStl', 'WBlk', 'WPF', 'OrdinalRank_W',\n",
    "         'LScore', 'LFGM', 'LFGA', 'LFGM3', 'LFGA3', 'LFTM', 'LFTA', \n",
    "         'LOR', 'LDR', 'LAst', 'LTO', 'LStl', 'LBlk', 'LPF', 'OrdinalRank_L']\n",
    "\n",
    "# Columns to be renamed for losing teams\n",
    "lcols = ['LTeamID', 'LScore', 'LFGM', 'LFGA', 'LFGM3', 'LFGA3', \n",
    "         'LFTM', 'LFTA', 'LOR', 'LDR', 'LAst', 'LTO', 'LStl', 'LBlk', 'LPF', 'OrdinalRank_L',\n",
    "         'WScore', 'WFGM', 'WFGA', 'WFGM3', 'WFGA3', 'WFTM', 'WFTA', \n",
    "         'WOR', 'WDR', 'WAst', 'WTO', 'WStl', 'WBlk', 'WPF', 'OrdinalRank_W']\n",
    "\n",
    "# Final column names for both winning and losing teams\n",
    "renamed_cols = ['TeamID', 'Score', 'FGM', 'FGA', 'FGM3', 'FGA3', \n",
    "                'FTM', 'FTA', 'OR', 'DR', 'Ast', 'TO', 'Stl', 'Blk', 'PF', 'Rank',\n",
    "                'OppScore', 'OppFGM', 'OppFGA', 'OppFGM3', 'OppFGA3', \n",
    "                'OppFTM', 'OppFTA', 'OppOR', 'OppDR', 'OppAst', 'OppTO', \n",
    "                'OppStl', 'OppBlk', 'OppPF', \"OppRank\"]\n",
    "\n",
    "rename_wcols = {}\n",
    "rename_lcols = {}\n",
    "\n",
    "for col in range(len(wcols)):\n",
    "    rename_wcols[wcols[col]] = renamed_cols[col]\n",
    "    rename_lcols[lcols[col]] = renamed_cols[col]\n",
    "    \n",
    "ref_df = reg_season_results_with_ordinals.copy()\n",
    "ref_df = ref_df.drop(dropped_cols, axis=1)"
   ]
  },
  {
   "cell_type": "code",
   "execution_count": null,
   "id": "concerned-sauce",
   "metadata": {},
   "outputs": [],
   "source": [
    "ref_df.head()"
   ]
  },
  {
   "cell_type": "code",
   "execution_count": null,
   "id": "inclusive-insulation",
   "metadata": {},
   "outputs": [],
   "source": [
    "\n",
    "# Selecting all rows in which team given by teamID won\n",
    "def selectWinRows (ref_df, teamID):\n",
    "    win_rows = ref_df[ref_df[\"WTeamID\"] == teamID].rename(columns=rename_wcols).drop([\"LTeamID\"], axis=1)\n",
    "    return win_rows\n",
    "\n",
    "# Selecting all rows in which team given by teamID lost\n",
    "def selectLossRows (ref_df, teamID):\n",
    "    loss_rows = ref_df[ref_df[\"LTeamID\"] == teamID].rename(columns=rename_lcols).drop([\"WTeamID\"], axis=1)\n",
    "    return loss_rows\n",
    "\n",
    "\n",
    "futures = []\n",
    "\n",
    "# Getting processed win and loss rows for each team using Dask futures\n",
    "team_ids = average_messey_ordinals[\"TeamID\"].unique()\n",
    "for t_id in team_ids:\n",
    "    win_future = client.submit(selectWinRows, ref_df, t_id)\n",
    "    loss_future = client.submit(selectLossRows, ref_df, t_id)\n",
    "    futures.append(win_future)\n",
    "    futures.append(loss_future)\n",
    "\n",
    "# Concatenating all rows from above into one final dataframe\n",
    "final_future = client.submit(dd.concat, futures)\n",
    "final = final_future.result().repartition(1)\n",
    "\n",
    "# Freeing the futures\n",
    "del futures\n",
    "del final_future"
   ]
  },
  {
   "cell_type": "code",
   "execution_count": null,
   "id": "quiet-growth",
   "metadata": {
    "scrolled": true
   },
   "outputs": [],
   "source": [
    "final_df = final.copy()\n",
    "\n",
    "# Calculate the number of wins a team won in a given season\n",
    "wins_by_season_team = final_df[final_df[\"Score\"] > final_df[\"OppScore\"]].groupby([\"Season\", \"TeamID\"])\\\n",
    "    .Score.count().reset_index()\n",
    "wins_by_season_team = wins_by_season_team.rename(columns={\"Score\": \"Wins\"})\n",
    "\n",
    "# Calculate the number of wins a team won against highly ranked opponents\n",
    "wins_against_highly_ranked = final_df[(final_df[\"Score\"] > final_df[\"OppScore\"]) & (final_df[\"OppRank\"] < 64)]\\\n",
    "    .groupby([\"Season\", \"TeamID\"]).Score.count().reset_index()\n",
    "wins_against_highly_ranked = wins_against_highly_ranked.rename(columns={\"Score\": \"RankedWins\"})\n",
    "\n",
    "# Calculate Field Goal %, 3-Point %, and Free Throw % for team\n",
    "final_df[\"FGP\"] = final_df[\"FGM\"] / final_df[\"FGA\"]\n",
    "final_df[\"FGP3\"] = final_df[\"FGM3\"] / final_df[\"FGA3\"]\n",
    "final_df[\"FTP\"] = final_df[\"FTM\"] / final_df[\"FTA\"]\n",
    "\n",
    "# Calculate Field Goal %, 3-Point %, and Free Throw % for team's opponent\n",
    "final_df[\"OppFGP\"] = final_df[\"OppFGM\"] / final_df[\"OppFGA\"]\n",
    "final_df[\"OppFGP3\"] = final_df[\"OppFGM3\"] / final_df[\"OppFGA3\"]\n",
    "final_df[\"OppFTP\"] = final_df[\"OppFTM\"] / final_df[\"OppFTA\"]\n",
    "\n",
    "# Attach number of wins that season to aggregate statistics data frame\n",
    "final_df = final_df.merge(wins_by_season_team, on=[\"Season\", \"TeamID\"], how=\"left\")\n",
    "final_df = final_df.merge(wins_against_highly_ranked, on=[\"Season\", \"TeamID\"], how=\"left\")\n",
    "final_df = final_df.fillna(0)\n",
    "\n",
    "final_df = final_df.groupby([\"Season\", \"TeamID\"]).mean().reset_index()\n",
    "\n",
    "# Reorder the columns\n",
    "column_order = ['Season', 'TeamID', 'Wins', 'RankedWins', 'Score', 'FGM', 'FGA', 'FGM3', 'FGA3',\n",
    "       'FTM', 'FTA', 'OR', 'DR', 'Ast', 'TO', 'Stl', 'Blk', 'PF', 'Rank', 'FGP', 'FGP3', 'FTP',\n",
    "        'OppScore', 'OppFGM', 'OppFGA', 'OppFGM3', 'OppFGA3', 'OppFTM', 'OppFTA', 'OppOR', 'OppDR',\n",
    "       'OppAst', 'OppTO', 'OppStl', 'OppBlk', 'OppPF', 'OppRank', 'OppFGP', 'OppFGP3', 'OppFTP']\n",
    "\n",
    "final_df = final_df[column_order]\n"
   ]
  },
  {
   "cell_type": "code",
   "execution_count": null,
   "id": "virgin-hours",
   "metadata": {},
   "outputs": [],
   "source": [
    "final_df.to_csv(paths.interim + \"/SeasonStats\")"
   ]
  },
  {
   "cell_type": "code",
   "execution_count": null,
   "id": "considered-cooler",
   "metadata": {},
   "outputs": [],
   "source": []
  }
 ],
 "metadata": {
  "kernelspec": {
   "display_name": "Python 3",
   "language": "python",
   "name": "python3"
  },
  "language_info": {
   "codemirror_mode": {
    "name": "ipython",
    "version": 3
   },
   "file_extension": ".py",
   "mimetype": "text/x-python",
   "name": "python",
   "nbconvert_exporter": "python",
   "pygments_lexer": "ipython3",
   "version": "3.7.4"
  }
 },
 "nbformat": 4,
 "nbformat_minor": 5
}
