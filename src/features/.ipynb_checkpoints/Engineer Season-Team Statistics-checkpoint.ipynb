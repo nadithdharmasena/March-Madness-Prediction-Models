{
 "cells": [
  {
   "cell_type": "code",
   "execution_count": null,
   "id": "covered-porcelain",
   "metadata": {},
   "outputs": [],
   "source": [
    "import numpy as np\n",
    "from dask.distributed import Client, LocalCluster\n",
    "import dask.array as da\n",
    "import dask.dataframe as dd\n",
    "import pandas as pd\n",
    "\n",
    "import paths"
   ]
  },
  {
   "cell_type": "code",
   "execution_count": null,
   "id": "turned-school",
   "metadata": {
    "scrolled": true
   },
   "outputs": [],
   "source": [
    "# Housekeeping \n",
    "client = Client(\"localhost:8786\")"
   ]
  },
  {
   "cell_type": "code",
   "execution_count": null,
   "id": "champion-detroit",
   "metadata": {},
   "outputs": [],
   "source": [
    "pd.set_option('display.max_columns', None)"
   ]
  },
  {
   "cell_type": "code",
   "execution_count": null,
   "id": "established-whole",
   "metadata": {},
   "outputs": [],
   "source": [
    "reg_season_results = dd.read_csv(paths.raw + \"/Prelim2019_RegularSeasonDetailedResults.csv\")"
   ]
  },
  {
   "cell_type": "code",
   "execution_count": null,
   "id": "republican-donna",
   "metadata": {},
   "outputs": [],
   "source": [
    "reg_season_results.head()"
   ]
  },
  {
   "cell_type": "code",
   "execution_count": null,
   "id": "artificial-document",
   "metadata": {},
   "outputs": [],
   "source": [
    "dropped_cols = [\"DayNum\", \"WLoc\", \"NumOT\"]\n",
    "rename_wcols = {\n",
    "    \"WTeamID\": \"TeamID\",\n",
    "    \"WScore\": \"Score\",\n",
    "    \"WFGM\": \"FGM\",\n",
    "    \"WFGA\": \"FGA\",\n",
    "    \"WFGM3\": \"FGM3\",\n",
    "    \"WFGA3\": \"FGA3\",\n",
    "    \"WFTM\": \"FTM\",\n",
    "    \"WFTA\": \"FTA\",\n",
    "    \"WOR\": \"OR\",\n",
    "    \"WDR\": \"DR\",\n",
    "    \"WAst\": \"Ast\",\n",
    "    \"WTO\": \"TO\",\n",
    "    \"WStl\": \"Stl\",\n",
    "    \"WBlk\": \"Blk\",\n",
    "    \"WPF\": \"PF\"\n",
    "}\n",
    "\n",
    "rename_lcols = {\n",
    "    \"LTeamID\": \"TeamID\",\n",
    "    \"LScore\": \"Score\",\n",
    "    \"LFGM\": \"FGM\",\n",
    "    \"LFGA\": \"FGA\",\n",
    "    \"LFGM3\": \"FGM3\",\n",
    "    \"LFGA3\": \"FGA3\",\n",
    "    \"LFTM\": \"FTM\",\n",
    "    \"LFTA\": \"FTA\",\n",
    "    \"LOR\": \"OR\",\n",
    "    \"LDR\": \"DR\",\n",
    "    \"LAst\": \"Ast\",\n",
    "    \"LTO\": \"TO\",\n",
    "    \"LStl\": \"Stl\",\n",
    "    \"LBlk\": \"Blk\",\n",
    "    \"LPF\": \"PF\"\n",
    "}\n",
    "\n",
    "ref_df = reg_season_results.copy()\n",
    "ref_df = ref_df.drop(dropped_cols, axis=1)"
   ]
  },
  {
   "cell_type": "code",
   "execution_count": null,
   "id": "broad-emphasis",
   "metadata": {},
   "outputs": [],
   "source": [
    "\n",
    "# Try to add defensive statistics like points allowed, rebounds allowed, etc.\n",
    "def selectRows (teamID):\n",
    "    win_rows = ref_df[ref_df[\"WTeamID\"] == teamID].rename(columns=rename_wcols).\\\n",
    "        drop(rename_lcols.keys(), axis=1).copy()\n",
    "    loss_rows = ref_df[ref_df[\"LTeamID\"] == teamID].rename(columns=rename_lcols).\\\n",
    "        drop(rename_wcols.keys(), axis=1).copy()\n",
    "    \n",
    "    return (win_rows, loss_rows)\n",
    "\n",
    "final_df = ref_df.copy()\n",
    "final_df = final_df.rename(columns=rename_wcols).\\\n",
    "    drop(rename_lcols.keys(), axis=1)\n",
    "final_df = final_df[final_df[\"Season\"] == -1]\n",
    "\n",
    "team_ids = [i for i in range(1101, 1467)]\n",
    "for t_id in team_ids:\n",
    "    win_rows, loss_rows = selectRows(t_id)\n",
    "    \n",
    "    final_df = final_df.append(win_rows)\n",
    "    final_df = final_df.append(loss_rows)\n",
    "\n",
    "season_stats_group = [\"Season\", \"TeamID\"]\n",
    "# count_alias = \"PF\"\n",
    "\n",
    "# games_played = final_df.groupby(season_stats_group).count()[[count_alias]].rename(columns={count_alias: \"Count\"})\n",
    "\n",
    "final_df = final_df.groupby(season_stats_group).mean()\n",
    "# final_df = final_df.join(games_played, how=\"left\")"
   ]
  },
  {
   "cell_type": "code",
   "execution_count": null,
   "id": "virgin-hours",
   "metadata": {},
   "outputs": [],
   "source": [
    "# final_df.to_csv(paths.interim + \"/SeasonStats\")"
   ]
  },
  {
   "cell_type": "code",
   "execution_count": null,
   "id": "atomic-liability",
   "metadata": {},
   "outputs": [],
   "source": []
  },
  {
   "cell_type": "code",
   "execution_count": null,
   "id": "perfect-perth",
   "metadata": {},
   "outputs": [],
   "source": [
    "season_statistics = dd.read_csv(paths.interim + \"/SeasonStats/*.part\")\n",
    "season_statistics.head()"
   ]
  },
  {
   "cell_type": "code",
   "execution_count": null,
   "id": "incorrect-union",
   "metadata": {},
   "outputs": [],
   "source": [
    "messey = dd.read_csv(data.raw + \"/MasseyOrdinals_thru_2019_day_128/*.csv\")\n",
    "grouped_messey = messey[[\"Season\", \"TeamID\", \"OrdinalRank\"]].groupby([\"Season\", \"TeamID\"])\n",
    "\n",
    "messey_stats = grouped_messey.mean().reset_index()\n",
    "messey_stats.head()"
   ]
  },
  {
   "cell_type": "code",
   "execution_count": null,
   "id": "focused-serve",
   "metadata": {},
   "outputs": [],
   "source": [
    "ss_messey = season_statistics.copy()\n",
    "ss_messey = ss_messey.merge(messey_stats, on=[\"Season\", \"TeamID\"])\n",
    "\n",
    "ss_messey.head()"
   ]
  },
  {
   "cell_type": "code",
   "execution_count": null,
   "id": "white-stockholm",
   "metadata": {},
   "outputs": [],
   "source": [
    "# ss_messey.to_csv(data.interim + \"/SSWithMesseys\")"
   ]
  },
  {
   "cell_type": "code",
   "execution_count": null,
   "id": "green-aspect",
   "metadata": {},
   "outputs": [],
   "source": []
  },
  {
   "cell_type": "code",
   "execution_count": null,
   "id": "living-pharmacy",
   "metadata": {},
   "outputs": [],
   "source": []
  },
  {
   "cell_type": "code",
   "execution_count": null,
   "id": "forbidden-thumb",
   "metadata": {},
   "outputs": [],
   "source": []
  }
 ],
 "metadata": {
  "kernelspec": {
   "display_name": "Python 3",
   "language": "python",
   "name": "python3"
  },
  "language_info": {
   "codemirror_mode": {
    "name": "ipython",
    "version": 3
   },
   "file_extension": ".py",
   "mimetype": "text/x-python",
   "name": "python",
   "nbconvert_exporter": "python",
   "pygments_lexer": "ipython3",
   "version": "3.7.4"
  }
 },
 "nbformat": 4,
 "nbformat_minor": 5
}
