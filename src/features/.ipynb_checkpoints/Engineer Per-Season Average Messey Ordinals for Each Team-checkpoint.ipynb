{
 "cells": [
  {
   "cell_type": "code",
   "execution_count": null,
   "id": "spare-great",
   "metadata": {},
   "outputs": [],
   "source": [
    "import numpy as np\n",
    "from dask.distributed import Client, LocalCluster\n",
    "import dask.array as da\n",
    "import dask.dataframe as dd\n",
    "import pandas as pd\n",
    "\n",
    "import paths"
   ]
  },
  {
   "cell_type": "code",
   "execution_count": null,
   "id": "independent-roulette",
   "metadata": {},
   "outputs": [],
   "source": [
    "# Housekeeping\n",
    "cluster = LocalCluster(n_workers=8)\n",
    "client = Client(cluster)\n",
    "pd.set_option('display.max_columns', None)"
   ]
  },
  {
   "cell_type": "code",
   "execution_count": null,
   "id": "advised-converter",
   "metadata": {},
   "outputs": [],
   "source": [
    "messey = dd.read_csv(paths.raw + \"/MMasseyOrdinals.csv\")\n",
    "grouped_messey = messey[[\"Season\", \"TeamID\", \"OrdinalRank\"]].groupby([\"Season\", \"TeamID\"])\n",
    "\n",
    "# Find mean of ordinal ranks by season and team\n",
    "messey_stats = grouped_messey.mean()\n",
    "messey_stats.head()"
   ]
  },
  {
   "cell_type": "code",
   "execution_count": null,
   "id": "capable-chrome",
   "metadata": {},
   "outputs": [],
   "source": [
    "messey_stats.to_csv(paths.interim + \"/AverageMesseyOrdinalsPerSeasonAndTeam\")"
   ]
  },
  {
   "cell_type": "code",
   "execution_count": null,
   "id": "motivated-immigration",
   "metadata": {},
   "outputs": [],
   "source": []
  }
 ],
 "metadata": {
  "kernelspec": {
   "display_name": "Python 3",
   "language": "python",
   "name": "python3"
  },
  "language_info": {
   "codemirror_mode": {
    "name": "ipython",
    "version": 3
   },
   "file_extension": ".py",
   "mimetype": "text/x-python",
   "name": "python",
   "nbconvert_exporter": "python",
   "pygments_lexer": "ipython3",
   "version": "3.7.4"
  }
 },
 "nbformat": 4,
 "nbformat_minor": 5
}
