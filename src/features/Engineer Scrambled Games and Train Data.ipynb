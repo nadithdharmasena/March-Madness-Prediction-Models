{
 "cells": [
  {
   "cell_type": "code",
   "execution_count": null,
   "id": "incorporated-liability",
   "metadata": {},
   "outputs": [],
   "source": [
    "import numpy as np\n",
    "from dask.distributed import Client, LocalCluster\n",
    "import dask.array as da\n",
    "import dask.dataframe as dd\n",
    "import pandas as pd\n",
    "\n",
    "import paths\n",
    "import math"
   ]
  },
  {
   "cell_type": "code",
   "execution_count": null,
   "id": "perceived-badge",
   "metadata": {},
   "outputs": [],
   "source": [
    "# Housekeeping \n",
    "cluster = LocalCluster(n_workers=6)\n",
    "client = Client(cluster)"
   ]
  },
  {
   "cell_type": "code",
   "execution_count": null,
   "id": "higher-calculator",
   "metadata": {},
   "outputs": [],
   "source": [
    "pd.set_option('display.max_columns', None)"
   ]
  },
  {
   "cell_type": "code",
   "execution_count": null,
   "id": "accepting-customer",
   "metadata": {},
   "outputs": [],
   "source": [
    "ss = dd.read_csv(paths.interim + \"/SeasonStats/*.part\").drop(\"Unnamed: 0\", axis=1)\n",
    "reg_season_results = dd.read_csv(paths.raw + \"/MRegularSeasonDetailedResults.csv\")"
   ]
  },
  {
   "cell_type": "code",
   "execution_count": null,
   "id": "scheduled-raise",
   "metadata": {},
   "outputs": [],
   "source": [
    "ss.head()"
   ]
  },
  {
   "cell_type": "code",
   "execution_count": null,
   "id": "demonstrated-scout",
   "metadata": {},
   "outputs": [],
   "source": [
    "reg_season_results.head()"
   ]
  },
  {
   "cell_type": "code",
   "execution_count": null,
   "id": "intimate-bridge",
   "metadata": {},
   "outputs": [],
   "source": [
    "# For model training, I am scrambling the order of columns, so team 1 doesn't always win\n",
    "scrambled_games = reg_season_results[[\"Season\", \"WTeamID\", \"LTeamID\"]].copy()\n",
    "\n",
    "swap_arr = da.random.randint(0,2,len(scrambled_games))\n",
    "\n",
    "scrambled_games[\"Swap\"] = swap_arr\n",
    "scrambled_games[\"Parity\"] = scrambled_games[\"WTeamID\"] ^ scrambled_games[\"LTeamID\"]\n",
    "\n",
    "scrambled_games[\"T1_ID\"] = scrambled_games[\"WTeamID\"] ^ (scrambled_games[\"Swap\"] * scrambled_games[\"Parity\"])\n",
    "scrambled_games[\"T2_ID\"] = scrambled_games[\"LTeamID\"] ^ (scrambled_games[\"Swap\"] * scrambled_games[\"Parity\"])\n",
    "scrambled_games[\"T1_Win_Indicator\"] = 1 ^ scrambled_games[\"Swap\"]\n",
    "\n",
    "scrambled_games = scrambled_games[[\"Season\", \"T1_ID\", \"T2_ID\", \"T1_Win_Indicator\"]]\n",
    "\n",
    "scrambled_games.head()"
   ]
  },
  {
   "cell_type": "code",
   "execution_count": null,
   "id": "complete-currency",
   "metadata": {},
   "outputs": [],
   "source": [
    "# Scrambled games with season statistics\n",
    "sg_with_ss = scrambled_games.copy()\n",
    "\n",
    "sg_with_ss = sg_with_ss.merge(ss, left_on=[\"Season\", \"T1_ID\"], right_on=[\"Season\", \"TeamID\"])\n",
    "\n",
    "sg_with_ss = sg_with_ss.merge(ss, \\\n",
    "                                    left_on=[\"Season\", \"T2_ID\"], right_on=[\"Season\", \"TeamID\"], \\\n",
    "                                    suffixes=[\"_T1\", \"_T2\"])\n",
    "\n",
    "sg_with_ss = sg_with_ss.drop([\"TeamID_T1\", \"TeamID_T2\"], axis=1)\n"
   ]
  },
  {
   "cell_type": "code",
   "execution_count": null,
   "id": "future-meter",
   "metadata": {},
   "outputs": [],
   "source": [
    "sg_with_ss.head()"
   ]
  },
  {
   "cell_type": "code",
   "execution_count": null,
   "id": "disciplinary-purse",
   "metadata": {
    "scrolled": true
   },
   "outputs": [],
   "source": [
    "sg_with_ss.to_csv(paths.interim + \"/ScrambledGamesWithSeasonStatistics\")"
   ]
  },
  {
   "cell_type": "code",
   "execution_count": null,
   "id": "suitable-identifier",
   "metadata": {},
   "outputs": [],
   "source": [
    "\n",
    "# For all statistics, find the ratio and difference between team 1 and team 2\n",
    "# This code block sets the label mappings to make that processing possible\n",
    "\n",
    "t1_columns = sg_with_ss.columns[4:42]\n",
    "t2_columns = sg_with_ss.columns[42:]\n",
    "\n",
    "ratio_columns = []\n",
    "diff_columns = []\n",
    "\n",
    "column_match = {}\n",
    "for i in range(len(t1_columns)):\n",
    "    column_match[t1_columns[i]] = t2_columns[i]\n",
    "    \n",
    "    base_label = t1_columns[i].split('_')[0]\n",
    "    \n",
    "    ratio_label = base_label + '_R'\n",
    "    ratio_columns.append(ratio_label)\n",
    "    \n",
    "    diff_label = base_label + '_D'\n",
    "    diff_columns.append(diff_label)\n",
    "    \n"
   ]
  },
  {
   "cell_type": "code",
   "execution_count": null,
   "id": "fatty-termination",
   "metadata": {},
   "outputs": [],
   "source": [
    "sg_with_ss_calcs = sg_with_ss.copy()\n",
    "\n",
    "# Finding ratios between season statistics of opposing teams\n",
    "for index, (key, value) in enumerate(column_match.items()):\n",
    "    sg_with_ss_calcs[ratio_columns[index]] = sg_with_ss_calcs[key] / sg_with_ss_calcs[value]\n",
    "\n",
    "# Finding differences between season statistics of opposing teams\n",
    "for index, (key, value) in enumerate(column_match.items()):\n",
    "    sg_with_ss_calcs[diff_columns[index]] = sg_with_ss_calcs[key] - sg_with_ss_calcs[value]\n",
    "    \n",
    "sg_with_ss_calcs"
   ]
  },
  {
   "cell_type": "code",
   "execution_count": null,
   "id": "satisfied-entrance",
   "metadata": {},
   "outputs": [],
   "source": [
    "# Only include ratios and differences in the data we will use to train\n",
    "rd_cols = sg_with_ss_calcs.columns[:4].append(sg_with_ss_calcs.columns[-76:])"
   ]
  },
  {
   "cell_type": "code",
   "execution_count": null,
   "id": "anticipated-league",
   "metadata": {},
   "outputs": [],
   "source": [
    "sg_with_ss_calcs = sg_with_ss_calcs[rd_cols]"
   ]
  },
  {
   "cell_type": "code",
   "execution_count": null,
   "id": "statutory-anthropology",
   "metadata": {},
   "outputs": [],
   "source": [
    "sg_with_ss_calcs = sg_with_ss_calcs.repartition(5)\n",
    "\n",
    "# Scrambled Games With Ratios, Differences\n",
    "sg_with_ss_calcs.to_csv(paths.processed + \"/EngineeredTrainData\")"
   ]
  },
  {
   "cell_type": "code",
   "execution_count": null,
   "id": "large-prescription",
   "metadata": {},
   "outputs": [],
   "source": []
  }
 ],
 "metadata": {
  "kernelspec": {
   "display_name": "Python 3",
   "language": "python",
   "name": "python3"
  },
  "language_info": {
   "codemirror_mode": {
    "name": "ipython",
    "version": 3
   },
   "file_extension": ".py",
   "mimetype": "text/x-python",
   "name": "python",
   "nbconvert_exporter": "python",
   "pygments_lexer": "ipython3",
   "version": "3.7.4"
  }
 },
 "nbformat": 4,
 "nbformat_minor": 5
}
