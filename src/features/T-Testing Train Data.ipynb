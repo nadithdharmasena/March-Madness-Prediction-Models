{
 "cells": [
  {
   "cell_type": "code",
   "execution_count": null,
   "id": "subtle-string",
   "metadata": {},
   "outputs": [],
   "source": [
    "import numpy as np\n",
    "from dask.distributed import Client, LocalCluster\n",
    "import dask.array as da\n",
    "import dask.dataframe as dd\n",
    "import pandas as pd\n",
    "\n",
    "import paths\n",
    "import math"
   ]
  },
  {
   "cell_type": "code",
   "execution_count": null,
   "id": "photographic-flower",
   "metadata": {},
   "outputs": [],
   "source": [
    "# Housekeeping \n",
    "cluster = LocalCluster(n_workers=6)\n",
    "client = Client(cluster)\n",
    "pd.set_option('display.max_columns', None)"
   ]
  },
  {
   "cell_type": "code",
   "execution_count": null,
   "id": "endless-scheme",
   "metadata": {},
   "outputs": [],
   "source": [
    "sg_with_ss_calcs = dd.read_csv(paths.processed + \"/EngineeredTrainData/*.part\").drop(\"Unnamed: 0\", axis=1)"
   ]
  },
  {
   "cell_type": "code",
   "execution_count": null,
   "id": "younger-charles",
   "metadata": {},
   "outputs": [],
   "source": [
    "sg_with_ss_calcs.persist()"
   ]
  },
  {
   "cell_type": "code",
   "execution_count": null,
   "id": "headed-graphics",
   "metadata": {},
   "outputs": [],
   "source": [
    "sg_with_ss_calcs.head()"
   ]
  },
  {
   "cell_type": "code",
   "execution_count": null,
   "id": "unknown-deposit",
   "metadata": {},
   "outputs": [],
   "source": [
    "# Persisting the first-wins and second-wins dataframes to make the printStats calls faster\n",
    "f_dub = sg_with_ss_calcs[sg_with_ss_calcs[\"T1_Win_Indicator\"] == 1].persist()\n",
    "s_dub = sg_with_ss_calcs[sg_with_ss_calcs[\"T1_Win_Indicator\"] == 0].persist()"
   ]
  },
  {
   "cell_type": "code",
   "execution_count": null,
   "id": "breeding-algeria",
   "metadata": {},
   "outputs": [],
   "source": [
    "\n",
    "# Function that calculates all the steps necessary to compute a t-statistic\n",
    "def printStats (column1, column2, size):\n",
    "    \n",
    "    mean1 = column1.mean().compute()\n",
    "    var1 = column1.var().compute()\n",
    "    \n",
    "    mean2 = column2.mean().compute()\n",
    "    var2 = column2.var().compute()\n",
    "    \n",
    "#     print(\"1-Mean: \", mean1)\n",
    "#     print(\"1-Var: \", var1)\n",
    "#     print(\"0-Mean: \", mean2)\n",
    "#     print(\"0-Var: \", var2)\n",
    "    \n",
    "    numerator = mean1 - mean2\n",
    "    \n",
    "#     pooled_stdev = math.sqrt(((size-1)*var1 + (size-1)*var2)/(size * 2 - 2))    \n",
    "#     denom = pooled_stdev * math.sqrt(1/size + 1/size)\n",
    "    \n",
    "    pooled_stdev = math.sqrt((var1 + var2)/2)    \n",
    "    denom = pooled_stdev\n",
    "    \n",
    "    t = numerator / denom\n",
    "    \n",
    "    return t\n",
    "     \n",
    "    "
   ]
  },
  {
   "cell_type": "code",
   "execution_count": null,
   "id": "applied-bachelor",
   "metadata": {},
   "outputs": [],
   "source": [
    "\n",
    "size = len(f_dub)\n",
    "cols = f_dub.columns[42:]\n",
    "\n",
    "# Using Dask futures to calculate t-statistics in parallel\n",
    "futures = []\n",
    "for s in cols:\n",
    "    stat = client.submit(printStats, f_dub[s], s_dub[s], size)\n",
    "    futures.append(stat)\n",
    "    \n",
    "num = 0\n",
    "feature_set = []\n",
    "for i in range(len(futures)):\n",
    "    real_stat = futures[i].result()\n",
    "    # Selecting the t-statistics above a certain threshold\n",
    "    if real_stat != None and abs(real_stat) > 0.6:\n",
    "        feature_set.append((cols[i], real_stat))\n",
    "\n",
    "# Sorting by most significant t-statistic (descending) \n",
    "feature_set.sort(key=lambda e: -abs(e[1]))        \n",
    "        \n",
    "print(\"T-Statistics\")\n",
    "print(\"Features: \", len(feature_set))\n",
    "a = [print(f[0], \": \", f[1]) for f in feature_set]\n"
   ]
  },
  {
   "cell_type": "code",
   "execution_count": null,
   "id": "responsible-interaction",
   "metadata": {},
   "outputs": [],
   "source": []
  }
 ],
 "metadata": {
  "kernelspec": {
   "display_name": "Python 3",
   "language": "python",
   "name": "python3"
  },
  "language_info": {
   "codemirror_mode": {
    "name": "ipython",
    "version": 3
   },
   "file_extension": ".py",
   "mimetype": "text/x-python",
   "name": "python",
   "nbconvert_exporter": "python",
   "pygments_lexer": "ipython3",
   "version": "3.7.4"
  }
 },
 "nbformat": 4,
 "nbformat_minor": 5
}
