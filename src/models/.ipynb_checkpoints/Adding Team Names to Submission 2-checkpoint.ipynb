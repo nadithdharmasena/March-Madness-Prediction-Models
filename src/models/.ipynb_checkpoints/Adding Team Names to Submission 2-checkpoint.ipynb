{
 "cells": [
  {
   "cell_type": "code",
   "execution_count": null,
   "id": "coastal-spare",
   "metadata": {},
   "outputs": [],
   "source": [
    "import dask.array as da\n",
    "import dask.dataframe as dd\n",
    "from dask.distributed import Client, LocalCluster\n",
    "\n",
    "import pandas as pd\n",
    "import paths\n",
    "\n",
    "import math\n"
   ]
  },
  {
   "cell_type": "code",
   "execution_count": null,
   "id": "reasonable-celebrity",
   "metadata": {},
   "outputs": [],
   "source": [
    "pd.set_option('display.max_columns', None)\n",
    "cluster = LocalCluster(n_workers=6)\n",
    "client = Client(cluster)"
   ]
  },
  {
   "cell_type": "code",
   "execution_count": null,
   "id": "million-express",
   "metadata": {},
   "outputs": [],
   "source": [
    "output_df = dd.read_csv(paths.processed + '/Submission2/*.part')\n",
    "teams_df = dd.read_csv(paths.raw + '/MTeams.csv').drop([\"FirstD1Season\", \"LastD1Season\"], axis=1)"
   ]
  },
  {
   "cell_type": "code",
   "execution_count": null,
   "id": "photographic-stroke",
   "metadata": {},
   "outputs": [],
   "source": [
    "output_df"
   ]
  },
  {
   "cell_type": "code",
   "execution_count": null,
   "id": "forced-verification",
   "metadata": {},
   "outputs": [],
   "source": [
    "# Using regular expressions to extract Team ID/Name information\n",
    "games = output_df[\"ID\"].str.extract(r'(\\d{4})_(\\d{4})_(\\d{4})')\n",
    "games = games.rename(columns={0: \"Season\", 1: \"T1_ID\", 2: \"T2_ID\"})\n",
    "games = games.astype({\"Season\": \"int64\", \"T1_ID\": \"int64\", \"T2_ID\": \"int64\"})\n",
    "\n",
    "games[\"Pred\"] = output_df[\"Pred\"]\n",
    "\n",
    "games = games.merge(teams_df, left_on=[\"T1_ID\"], right_on=[\"TeamID\"])\n",
    "games = games.merge(teams_df, left_on=[\"T2_ID\"], right_on=[\"TeamID\"], suffixes=[\"_T1\", \"_T2\"]).\\\n",
    "    drop([\"TeamID_T1\", \"TeamID_T2\"], axis=1).persist()"
   ]
  },
  {
   "cell_type": "code",
   "execution_count": null,
   "id": "accompanied-berkeley",
   "metadata": {},
   "outputs": [],
   "source": [
    "# Outputting submission 2 with names for alignment with betting lines\n",
    "games.to_csv(paths.processed + \"/Submission2_WithNames\")"
   ]
  },
  {
   "cell_type": "code",
   "execution_count": null,
   "id": "pleased-button",
   "metadata": {},
   "outputs": [],
   "source": []
  }
 ],
 "metadata": {
  "kernelspec": {
   "display_name": "Python 3",
   "language": "python",
   "name": "python3"
  },
  "language_info": {
   "codemirror_mode": {
    "name": "ipython",
    "version": 3
   },
   "file_extension": ".py",
   "mimetype": "text/x-python",
   "name": "python",
   "nbconvert_exporter": "python",
   "pygments_lexer": "ipython3",
   "version": "3.7.4"
  }
 },
 "nbformat": 4,
 "nbformat_minor": 5
}
